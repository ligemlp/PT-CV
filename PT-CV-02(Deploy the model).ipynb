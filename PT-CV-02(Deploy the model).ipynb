{
 "cells": [
  {
   "cell_type": "markdown",
   "metadata": {},
   "source": [
    "# Deploying the model"
   ]
  },
  {
   "cell_type": "code",
   "execution_count": 1,
   "metadata": {},
   "outputs": [],
   "source": [
    "#1.First, we create an object of the Net class and load the store weights into the model\n",
    "import torch.nn as nn\n",
    "import numpy as np\n",
    "\n",
    "#Then, we will define the helper function\n",
    "def findConv2dOutShape(H_in, W_in, conv, pool=2):\n",
    "    kernel_size = conv.kernel_size\n",
    "    stride = conv.stride\n",
    "    padding = conv.padding\n",
    "    dilation = conv.dilation\n",
    "    \n",
    "    H_out = np.floor((H_in+2*padding[0]-dilation[0]*(kernel_size[0]-1)-1)/stride[0]+1)\n",
    "    W_out = np.floor((W_in+2*padding[1]-dilation[1]*(kernel_size[1]-1)-1)/stride[1]+1)\n",
    "    if pool:\n",
    "        H_out /= pool\n",
    "        W_out /= pool\n",
    "    return int(H_out), int(W_out)\n",
    "import torch.nn as nn\n",
    "import torch.nn.functional as F\n",
    "\n",
    "#Define the Net class\n",
    "class Net(nn.Module):\n",
    "    def __init__(self, params):\n",
    "        super(Net, self).__init__()\n",
    "        C_in,H_in,W_in = params[\"input_shape\"]\n",
    "        init_f = params[\"initial_filters\"]\n",
    "        num_fc1 = params[\"num_fc1\"]\n",
    "        num_classes = params[\"num_classes\"]\n",
    "        self.dropout_rate = params[\"dropout_rate\"]\n",
    "        \n",
    "        self.conv1 = nn.Conv2d(C_in, init_f, kernel_size=3)\n",
    "        h,w = findConv2dOutShape(H_in, W_in, self.conv1)\n",
    "        self.conv2 = nn.Conv2d(init_f, 2*init_f, kernel_size=3)\n",
    "        h,w = findConv2dOutShape(h,w,self.conv2)\n",
    "        self.conv3 = nn.Conv2d(2*init_f, 4*init_f, kernel_size=3)\n",
    "        h,w = findConv2dOutShape(h,w,self.conv3)\n",
    "        self.conv4 = nn.Conv2d(4*init_f, 8*init_f, kernel_size=3)\n",
    "        h,w = findConv2dOutShape(h,w,self.conv4)\n",
    "        \n",
    "        #Compute the flatten size\n",
    "        self.num_flatten = h*w*8*init_f\n",
    "        self.fc1 = nn.Linear(self.num_flatten, num_fc1)\n",
    "        self.fc2 = nn.Linear(num_fc1, num_classes)\n",
    "        \n",
    "    def forward(self, x):\n",
    "        x = F.relu(self.conv1(x))\n",
    "        x = F.max_pool2d(x,2,2)\n",
    "        x = F.relu(self.conv2(x))\n",
    "        x = F.max_pool2d(x,2,2)\n",
    "        x = F.relu(self.conv3(x))\n",
    "        x = F.max_pool2d(x,2,2)\n",
    "        x = F.relu(self.conv4(x))\n",
    "        x = F.max_pool2d(x,2,2)\n",
    "        \n",
    "        x = x.view(-1, self.num_flatten)\n",
    "        x = F.relu(self.fc1(x))\n",
    "        x = F.dropout(x, self.dropout_rate, training = self.training)\n",
    "        x = self.fc2(x)\n",
    "        return F.log_softmax(x, dim=1)\n",
    "\n",
    "params_model = {\n",
    "    \"input_shape\":(3,96,96),\n",
    "    \"initial_filters\":8,\n",
    "    \"num_fc1\":100,\n",
    "    \"dropout_rate\":0.25,\n",
    "    \"num_classes\":2\n",
    "}\n",
    "\n",
    "cnn_model = Net(params_model)"
   ]
  },
  {
   "cell_type": "code",
   "execution_count": 2,
   "metadata": {},
   "outputs": [
    {
     "data": {
      "text/plain": [
       "<All keys matched successfully>"
      ]
     },
     "execution_count": 2,
     "metadata": {},
     "output_type": "execute_result"
    }
   ],
   "source": [
    "#2.Let's load the state_dict into the model\n",
    "import torch\n",
    "path2weight = r\"D:\\my file\\ptcv\\ptcv2\\models\\weights1.pt\"\n",
    "cnn_model.load_state_dict(torch.load(path2weight))"
   ]
  },
  {
   "cell_type": "code",
   "execution_count": 3,
   "metadata": {},
   "outputs": [
    {
     "data": {
      "text/plain": [
       "Net(\n",
       "  (conv1): Conv2d(3, 8, kernel_size=(3, 3), stride=(1, 1))\n",
       "  (conv2): Conv2d(8, 16, kernel_size=(3, 3), stride=(1, 1))\n",
       "  (conv3): Conv2d(16, 32, kernel_size=(3, 3), stride=(1, 1))\n",
       "  (conv4): Conv2d(32, 64, kernel_size=(3, 3), stride=(1, 1))\n",
       "  (fc1): Linear(in_features=1024, out_features=100, bias=True)\n",
       "  (fc2): Linear(in_features=100, out_features=2, bias=True)\n",
       ")"
      ]
     },
     "execution_count": 3,
     "metadata": {},
     "output_type": "execute_result"
    }
   ],
   "source": [
    "#3.Set the model in eval mode\n",
    "cnn_model.eval()"
   ]
  },
  {
   "cell_type": "code",
   "execution_count": 4,
   "metadata": {},
   "outputs": [
    {
     "name": "stdout",
     "output_type": "stream",
     "text": [
      "move to cuda\n"
     ]
    }
   ],
   "source": [
    "#4.Move the model into CUDA device if available\n",
    "if torch.cuda.is_available():\n",
    "    device = torch.device(\"cuda\")\n",
    "    cnn_model.to(device)\n",
    "    print(\"move to cuda\")"
   ]
  },
  {
   "cell_type": "code",
   "execution_count": 5,
   "metadata": {},
   "outputs": [],
   "source": [
    "#5.Let's develop a helper function to deploy the model on a dataset\n",
    "def deploy_model(model, dataset, device, num_classes=2, sanity_check=False):\n",
    "    len_data = len(dataset)\n",
    "    y_out = torch.zeros(len_data, num_classes)\n",
    "    y_gt = np.zeros((len_data), dtype=\"uint8\")\n",
    "    model = model.to(device)\n",
    "    elapsed_times = []\n",
    "    with torch.no_grad():\n",
    "        for i in range(len_data):\n",
    "            x,y = dataset[i]\n",
    "            y_gt[i] = y\n",
    "            start = time.time()\n",
    "            y_out[i] = model(x.unsqueeze(0).to(device))\n",
    "            elapsed = time.time() - start\n",
    "            elapsed_times.append(elapsed)\n",
    "            if sanity_check is True:\n",
    "                break\n",
    "    inference_time = np.mean(elapsed_times)*1000\n",
    "    print(\"average inference time per image on %s : %.2f ms\"%(device, inference_time))\n",
    "    return y_out.numpy(), y_gt"
   ]
  },
  {
   "cell_type": "code",
   "execution_count": 46,
   "metadata": {},
   "outputs": [],
   "source": [
    "from PIL import Image\n",
    "import torch\n",
    "from torch.utils.data import Dataset\n",
    "import pandas as pd\n",
    "import torchvision.transforms as transforms\n",
    "import os\n",
    "\n",
    "#Don't forget to fix the random seed reproducibility\n",
    "torch.manual_seed(0)\n",
    "\n",
    "#Define histoCancerDataset class\n",
    "class histoCancerDataset(Dataset):\n",
    "    def __init__(self, data_dir, transform, data_type=\"train\"):\n",
    "        path2data = os.path.join(data_dir, data_type)\n",
    "        self.filenames = os.listdir(path2data)\n",
    "        self.full_filenames = [os.path.join(path2data, f) for f in self.filenames]\n",
    "        \n",
    "        csv_file = data_type + \"_labels.csv\"\n",
    "        path2csvLabels = os.path.join(data_dir, csv_file)\n",
    "        labels_df = pd.read_csv(path2csvLabels)\n",
    "        labels_df.set_index(\"id\", inplace=True)\n",
    "        self.labels = [labels_df.loc[filename[:-4]].values[0] for filename in self.filenames]\n",
    "        self.transform = transform\n",
    "        \n",
    "    def __len__(self):\n",
    "        return len(self.full_filenames)\n",
    "    \n",
    "    def __getitem__(self, idx):\n",
    "        image = Image.open(self.full_filenames[idx])\n",
    "        image = self.transform(image)\n",
    "        return image, self.labels[idx]\n",
    "\n",
    "data_transformer = transforms.Compose([transforms.ToTensor()])\n",
    "\n",
    "data_dir = r\"D:\\my file\\ptcv\\ptcv2\\data\"\n",
    "histo_dataset = histoCancerDataset(data_dir, data_transformer, \"train\")\n",
    "len(histo_dataset)\n",
    "from torch.utils.data import random_split\n",
    "\n",
    "len_histo = len(histo_dataset)\n",
    "len_train = int(0.8*len_histo)\n",
    "len_val = len_histo - len_train\n",
    "\n",
    "train_ds, val_ds = random_split(histo_dataset, [len_train, len_val])"
   ]
  },
  {
   "cell_type": "code",
   "execution_count": 7,
   "metadata": {},
   "outputs": [
    {
     "name": "stdout",
     "output_type": "stream",
     "text": [
      "average inference time per image on cuda : 1.22 ms\n",
      "(44005, 2) (44005,)\n"
     ]
    }
   ],
   "source": [
    "#6.Let's use the function to deploy the model on validation set\n",
    "import time\n",
    "y_out, y_gt = deploy_model(cnn_model, val_ds, device=device, sanity_check=False)\n",
    "print(y_out.shape, y_gt.shape)"
   ]
  },
  {
   "cell_type": "code",
   "execution_count": 10,
   "metadata": {},
   "outputs": [
    {
     "name": "stdout",
     "output_type": "stream",
     "text": [
      "(44005,) (44005,)\n",
      "accuracy 0.8799681854334734\n"
     ]
    }
   ],
   "source": [
    "#7.Let's check out the accuracy on validation set using the predicted model\n",
    "from sklearn.metrics import accuracy_score\n",
    "\n",
    "y_pred = np.argmax(y_out, axis=1)\n",
    "print(y_pred.shape, y_gt.shape)\n",
    "\n",
    "acc = accuracy_score(y_gt, y_pred)\n",
    "print(\"accuracy\", acc)"
   ]
  },
  {
   "cell_type": "code",
   "execution_count": 11,
   "metadata": {},
   "outputs": [
    {
     "name": "stdout",
     "output_type": "stream",
     "text": [
      "average inference time per image on cuda : 1.19 ms\n",
      "(44005, 2) (44005,)\n"
     ]
    }
   ],
   "source": [
    "#8.Let's also measure the inferece time on the CPU device\n",
    "device_cpu = torch.device(\"cpu\")\n",
    "y_out, y_gt = deploy_model(cnn_model, val_ds, device=device, sanity_check=False)\n",
    "print(y_out.shape, y_gt.shape)"
   ]
  },
  {
   "cell_type": "markdown",
   "metadata": {},
   "source": [
    "# Model inference on test data"
   ]
  },
  {
   "cell_type": "code",
   "execution_count": 12,
   "metadata": {},
   "outputs": [
    {
     "data": {
      "text/html": [
       "<div>\n",
       "<style scoped>\n",
       "    .dataframe tbody tr th:only-of-type {\n",
       "        vertical-align: middle;\n",
       "    }\n",
       "\n",
       "    .dataframe tbody tr th {\n",
       "        vertical-align: top;\n",
       "    }\n",
       "\n",
       "    .dataframe thead th {\n",
       "        text-align: right;\n",
       "    }\n",
       "</style>\n",
       "<table border=\"1\" class=\"dataframe\">\n",
       "  <thead>\n",
       "    <tr style=\"text-align: right;\">\n",
       "      <th></th>\n",
       "      <th>id</th>\n",
       "      <th>label</th>\n",
       "    </tr>\n",
       "  </thead>\n",
       "  <tbody>\n",
       "    <tr>\n",
       "      <th>0</th>\n",
       "      <td>0b2ea2a822ad23fdb1b5dd26653da899fbd2c0d5</td>\n",
       "      <td>0</td>\n",
       "    </tr>\n",
       "    <tr>\n",
       "      <th>1</th>\n",
       "      <td>95596b92e5066c5c52466c90b69ff089b39f2737</td>\n",
       "      <td>0</td>\n",
       "    </tr>\n",
       "    <tr>\n",
       "      <th>2</th>\n",
       "      <td>248e6738860e2ebcf6258cdc1f32f299e0c76914</td>\n",
       "      <td>0</td>\n",
       "    </tr>\n",
       "    <tr>\n",
       "      <th>3</th>\n",
       "      <td>2c35657e312966e9294eac6841726ff3a748febf</td>\n",
       "      <td>0</td>\n",
       "    </tr>\n",
       "    <tr>\n",
       "      <th>4</th>\n",
       "      <td>145782eb7caa1c516acbe2eda34d9a3f31c41fd6</td>\n",
       "      <td>0</td>\n",
       "    </tr>\n",
       "  </tbody>\n",
       "</table>\n",
       "</div>"
      ],
      "text/plain": [
       "                                         id  label\n",
       "0  0b2ea2a822ad23fdb1b5dd26653da899fbd2c0d5      0\n",
       "1  95596b92e5066c5c52466c90b69ff089b39f2737      0\n",
       "2  248e6738860e2ebcf6258cdc1f32f299e0c76914      0\n",
       "3  2c35657e312966e9294eac6841726ff3a748febf      0\n",
       "4  145782eb7caa1c516acbe2eda34d9a3f31c41fd6      0"
      ]
     },
     "execution_count": 12,
     "metadata": {},
     "output_type": "execute_result"
    }
   ],
   "source": [
    "#1.First, let's load the test_labels.csv and print out its head\n",
    "path2csv = r\"D:\\my file\\ptcv\\ptcv2\\data\\test_labels.csv\"\n",
    "labels_df = pd.read_csv(path2csv)\n",
    "labels_df.head()"
   ]
  },
  {
   "cell_type": "code",
   "execution_count": 14,
   "metadata": {},
   "outputs": [],
   "source": [
    "val_transformer = transforms.Compose([transforms.ToTensor()])"
   ]
  },
  {
   "cell_type": "code",
   "execution_count": 47,
   "metadata": {},
   "outputs": [
    {
     "name": "stdout",
     "output_type": "stream",
     "text": [
      "57458\n"
     ]
    }
   ],
   "source": [
    "#2.Create a custom dataset for the test dataset\n",
    "histo_test = histoCancerDataset(data_dir, val_transformer, data_type=\"test\")\n",
    "print(len(histo_test))"
   ]
  },
  {
   "cell_type": "code",
   "execution_count": 19,
   "metadata": {},
   "outputs": [
    {
     "name": "stdout",
     "output_type": "stream",
     "text": [
      "average inference time per image on cuda : 1.21 ms\n",
      "(57458,)\n"
     ]
    }
   ],
   "source": [
    "#3.Deploy the model on the test dataset\n",
    "y_test_out, _ = deploy_model(cnn_model, histo_test, device, num_classes=2, sanity_check=False)\n",
    "\n",
    "y_test_pred = np.argmax(y_test_out, axis=1)\n",
    "print(y_test_pred.shape)"
   ]
  },
  {
   "cell_type": "code",
   "execution_count": 38,
   "metadata": {},
   "outputs": [
    {
     "name": "stdout",
     "output_type": "stream",
     "text": [
      "indices [ 2732 43567 42613 52416]\n",
      "torch.Size([3, 100, 394])\n"
     ]
    },
    {
     "data": {
      "image/png": "[encoded data removed]",
      "text/plain": [
       "<Figure size 720x360 with 1 Axes>"
      ]
     },
     "metadata": {
      "needs_background": "light"
     },
     "output_type": "display_data"
    }
   ],
   "source": [
    "#4.Display some sample images and predictions\n",
    "from torchvision import utils\n",
    "import matplotlib.pyplot as plt\n",
    "%matplotlib inline\n",
    "\n",
    "torch.manual_seed(0)\n",
    "np.random.seed(0)\n",
    "def show(img, y, color=False):\n",
    "    #convert a tensor to numpy array\n",
    "    npimg = img.numpy()\n",
    "    #convert to H*W*C shape\n",
    "    npimg_tr = np.transpose(npimg, (1,2,0))\n",
    "    if color == False:\n",
    "        npimg_tr = npimg_tr[:,:,0]\n",
    "        plt.imshow(npimg_tr, interpolation='nearest', cmap=\"gray\")\n",
    "    else:\n",
    "        plt.imshow(npimg_tr, interpolation='nearest')\n",
    "    plt.title(\"label:\"+str(y))\n",
    "\n",
    "\n",
    "grid_size = 4\n",
    "rnd_inds = np.random.randint(0, len(y_test_pred), grid_size)\n",
    "print(\"indices\", rnd_inds)\n",
    "\n",
    "x_grid = [histo_test[i][0] for i in rnd_inds]\n",
    "y_grid = [y_test_pred[i] for i in rnd_inds]\n",
    "\n",
    "x_grid = utils.make_grid(x_grid, nrow=4, padding=2)\n",
    "print(x_grid.shape)\n",
    "\n",
    "plt.rcParams[\"figure.figsize\"] = (10,5)\n",
    "show(x_grid, y_grid)"
   ]
  },
  {
   "cell_type": "code",
   "execution_count": 40,
   "metadata": {},
   "outputs": [
    {
     "name": "stdout",
     "output_type": "stream",
     "text": [
      "(57458, 2)\n",
      "(57458,)\n"
     ]
    }
   ],
   "source": [
    "print(y_test_out.shape)\n",
    "cancer_pred = np.exp(y_test_out[:,1])\n",
    "print(cancer_pred.shape)"
   ]
  },
  {
   "cell_type": "code",
   "execution_count": 60,
   "metadata": {},
   "outputs": [
    {
     "name": "stdout",
     "output_type": "stream",
     "text": [
      "submission folder created\n"
     ]
    },
    {
     "data": {
      "text/html": [
       "<div>\n",
       "<style scoped>\n",
       "    .dataframe tbody tr th:only-of-type {\n",
       "        vertical-align: middle;\n",
       "    }\n",
       "\n",
       "    .dataframe tbody tr th {\n",
       "        vertical-align: top;\n",
       "    }\n",
       "\n",
       "    .dataframe thead th {\n",
       "        text-align: right;\n",
       "    }\n",
       "</style>\n",
       "<table border=\"1\" class=\"dataframe\">\n",
       "  <thead>\n",
       "    <tr style=\"text-align: right;\">\n",
       "      <th></th>\n",
       "      <th>id</th>\n",
       "      <th>label</th>\n",
       "    </tr>\n",
       "  </thead>\n",
       "  <tbody>\n",
       "    <tr>\n",
       "      <th>0</th>\n",
       "      <td>0b2ea2a822ad23fdb1b5dd26653da899fbd2c0d5</td>\n",
       "      <td>0.046375</td>\n",
       "    </tr>\n",
       "    <tr>\n",
       "      <th>1</th>\n",
       "      <td>95596b92e5066c5c52466c90b69ff089b39f2737</td>\n",
       "      <td>0.763656</td>\n",
       "    </tr>\n",
       "    <tr>\n",
       "      <th>2</th>\n",
       "      <td>248e6738860e2ebcf6258cdc1f32f299e0c76914</td>\n",
       "      <td>0.105325</td>\n",
       "    </tr>\n",
       "    <tr>\n",
       "      <th>3</th>\n",
       "      <td>2c35657e312966e9294eac6841726ff3a748febf</td>\n",
       "      <td>0.265616</td>\n",
       "    </tr>\n",
       "    <tr>\n",
       "      <th>4</th>\n",
       "      <td>145782eb7caa1c516acbe2eda34d9a3f31c41fd6</td>\n",
       "      <td>0.083400</td>\n",
       "    </tr>\n",
       "  </tbody>\n",
       "</table>\n",
       "</div>"
      ],
      "text/plain": [
       "                                         id     label\n",
       "0  0b2ea2a822ad23fdb1b5dd26653da899fbd2c0d5  0.046375\n",
       "1  95596b92e5066c5c52466c90b69ff089b39f2737  0.763656\n",
       "2  248e6738860e2ebcf6258cdc1f32f299e0c76914  0.105325\n",
       "3  2c35657e312966e9294eac6841726ff3a748febf  0.265616\n",
       "4  145782eb7caa1c516acbe2eda34d9a3f31c41fd6  0.083400"
      ]
     },
     "execution_count": 60,
     "metadata": {},
     "output_type": "execute_result"
    }
   ],
   "source": [
    "path2sampleSub = r\"D:\\my file\\ptcv\\ptcv2\\data\" + \"\\sample_submission.csv\"\n",
    "sample_df = pd.read_csv(path2sampleSub)\n",
    "ids_list = list(sample_df.id)\n",
    "pred_list = [p for p in cancer_pred]\n",
    "pred_dic = dict((key[:-4], value) for (key, value) in zip(histo_test.filenames, pred_list))\n",
    "pred_list_sub = [pred_dic[id] for id in ids_list]\n",
    "submission_df = pd.DataFrame({'id':ids_list, \"label\":pred_list_sub})\n",
    "if not os.path.exists(r\"D:\\my file\\ptcv\\ptcv2\\data\\submissions\"):\n",
    "    os.mkdir(r\"D:\\my file\\ptcv\\ptcv2\\data\\submissions\")\n",
    "    print(\"submission folder created\")\n",
    "path2submission = r\"D:\\my file\\ptcv\\ptcv2\\data\\submissions\\submission.csv\"\n",
    "submission_df.to_csv(path2submission, header=True, index=False)\n",
    "submission_df.head()"
   ]
  },
  {
   "cell_type": "code",
   "execution_count": 58,
   "metadata": {},
   "outputs": [
    {
     "name": "stdout",
     "output_type": "stream",
     "text": [
      "00006537328c33e284c973d7b39d340809f7271b 0.95616335\n"
     ]
    }
   ],
   "source": [
    "for (key, value ) in zip(histo_test.filenames, pred_list):\n",
    "    print(key[:-4], value)\n",
    "    break"
   ]
  },
  {
   "cell_type": "code",
   "execution_count": null,
   "metadata": {},
   "outputs": [],
   "source": []
  }
 ],
 "metadata": {
  "kernelspec": {
   "display_name": "Python [conda env:pytorch] *",
   "language": "python",
   "name": "conda-env-pytorch-py"
  },
  "language_info": {
   "codemirror_mode": {
    "name": "ipython",
    "version": 3
   },
   "file_extension": ".py",
   "mimetype": "text/x-python",
   "name": "python",
   "nbconvert_exporter": "python",
   "pygments_lexer": "ipython3",
   "version": "3.7.7"
  }
 },
 "nbformat": 4,
 "nbformat_minor": 4
}
